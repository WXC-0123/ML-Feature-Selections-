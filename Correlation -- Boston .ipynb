{
 "cells": [
  {
   "cell_type": "markdown",
   "metadata": {},
   "source": [
    "## correlation -- Boston"
   ]
  },
  {
   "cell_type": "code",
   "execution_count": 1,
   "metadata": {},
   "outputs": [],
   "source": [
    "import pandas as pd\n",
    "import numpy as np\n",
    "from sklearn import datasets"
   ]
  },
  {
   "cell_type": "code",
   "execution_count": 2,
   "metadata": {},
   "outputs": [
    {
     "data": {
      "text/html": [
       "<div>\n",
       "<style scoped>\n",
       "    .dataframe tbody tr th:only-of-type {\n",
       "        vertical-align: middle;\n",
       "    }\n",
       "\n",
       "    .dataframe tbody tr th {\n",
       "        vertical-align: top;\n",
       "    }\n",
       "\n",
       "    .dataframe thead th {\n",
       "        text-align: right;\n",
       "    }\n",
       "</style>\n",
       "<table border=\"1\" class=\"dataframe\">\n",
       "  <thead>\n",
       "    <tr style=\"text-align: right;\">\n",
       "      <th></th>\n",
       "      <th>CRIM</th>\n",
       "      <th>ZN</th>\n",
       "      <th>INDUS</th>\n",
       "      <th>CHAS</th>\n",
       "      <th>NOX</th>\n",
       "      <th>RM</th>\n",
       "      <th>AGE</th>\n",
       "      <th>DIS</th>\n",
       "      <th>RAD</th>\n",
       "      <th>TAX</th>\n",
       "      <th>PTRATIO</th>\n",
       "      <th>B</th>\n",
       "      <th>LSTAT</th>\n",
       "      <th>PRICE</th>\n",
       "    </tr>\n",
       "  </thead>\n",
       "  <tbody>\n",
       "    <tr>\n",
       "      <th>0</th>\n",
       "      <td>0.00632</td>\n",
       "      <td>18.0</td>\n",
       "      <td>2.31</td>\n",
       "      <td>0.0</td>\n",
       "      <td>0.538</td>\n",
       "      <td>6.575</td>\n",
       "      <td>65.2</td>\n",
       "      <td>4.0900</td>\n",
       "      <td>1.0</td>\n",
       "      <td>296.0</td>\n",
       "      <td>15.3</td>\n",
       "      <td>396.90</td>\n",
       "      <td>4.98</td>\n",
       "      <td>24.0</td>\n",
       "    </tr>\n",
       "    <tr>\n",
       "      <th>1</th>\n",
       "      <td>0.02731</td>\n",
       "      <td>0.0</td>\n",
       "      <td>7.07</td>\n",
       "      <td>0.0</td>\n",
       "      <td>0.469</td>\n",
       "      <td>6.421</td>\n",
       "      <td>78.9</td>\n",
       "      <td>4.9671</td>\n",
       "      <td>2.0</td>\n",
       "      <td>242.0</td>\n",
       "      <td>17.8</td>\n",
       "      <td>396.90</td>\n",
       "      <td>9.14</td>\n",
       "      <td>21.6</td>\n",
       "    </tr>\n",
       "    <tr>\n",
       "      <th>2</th>\n",
       "      <td>0.02729</td>\n",
       "      <td>0.0</td>\n",
       "      <td>7.07</td>\n",
       "      <td>0.0</td>\n",
       "      <td>0.469</td>\n",
       "      <td>7.185</td>\n",
       "      <td>61.1</td>\n",
       "      <td>4.9671</td>\n",
       "      <td>2.0</td>\n",
       "      <td>242.0</td>\n",
       "      <td>17.8</td>\n",
       "      <td>392.83</td>\n",
       "      <td>4.03</td>\n",
       "      <td>34.7</td>\n",
       "    </tr>\n",
       "    <tr>\n",
       "      <th>3</th>\n",
       "      <td>0.03237</td>\n",
       "      <td>0.0</td>\n",
       "      <td>2.18</td>\n",
       "      <td>0.0</td>\n",
       "      <td>0.458</td>\n",
       "      <td>6.998</td>\n",
       "      <td>45.8</td>\n",
       "      <td>6.0622</td>\n",
       "      <td>3.0</td>\n",
       "      <td>222.0</td>\n",
       "      <td>18.7</td>\n",
       "      <td>394.63</td>\n",
       "      <td>2.94</td>\n",
       "      <td>33.4</td>\n",
       "    </tr>\n",
       "    <tr>\n",
       "      <th>4</th>\n",
       "      <td>0.06905</td>\n",
       "      <td>0.0</td>\n",
       "      <td>2.18</td>\n",
       "      <td>0.0</td>\n",
       "      <td>0.458</td>\n",
       "      <td>7.147</td>\n",
       "      <td>54.2</td>\n",
       "      <td>6.0622</td>\n",
       "      <td>3.0</td>\n",
       "      <td>222.0</td>\n",
       "      <td>18.7</td>\n",
       "      <td>396.90</td>\n",
       "      <td>5.33</td>\n",
       "      <td>36.2</td>\n",
       "    </tr>\n",
       "  </tbody>\n",
       "</table>\n",
       "</div>"
      ],
      "text/plain": [
       "      CRIM    ZN  INDUS  CHAS    NOX     RM   AGE     DIS  RAD    TAX  \\\n",
       "0  0.00632  18.0   2.31   0.0  0.538  6.575  65.2  4.0900  1.0  296.0   \n",
       "1  0.02731   0.0   7.07   0.0  0.469  6.421  78.9  4.9671  2.0  242.0   \n",
       "2  0.02729   0.0   7.07   0.0  0.469  7.185  61.1  4.9671  2.0  242.0   \n",
       "3  0.03237   0.0   2.18   0.0  0.458  6.998  45.8  6.0622  3.0  222.0   \n",
       "4  0.06905   0.0   2.18   0.0  0.458  7.147  54.2  6.0622  3.0  222.0   \n",
       "\n",
       "   PTRATIO       B  LSTAT  PRICE  \n",
       "0     15.3  396.90   4.98   24.0  \n",
       "1     17.8  396.90   9.14   21.6  \n",
       "2     17.8  392.83   4.03   34.7  \n",
       "3     18.7  394.63   2.94   33.4  \n",
       "4     18.7  396.90   5.33   36.2  "
      ]
     },
     "execution_count": 2,
     "metadata": {},
     "output_type": "execute_result"
    }
   ],
   "source": [
    "b = datasets.load_boston() \n",
    "\n",
    "bos = pd.DataFrame(b.data)\n",
    "bos.columns = b.feature_names\n",
    "X = bos[bos.columns]\n",
    "bos[\"PRICE\"] = b.target\n",
    "y = bos[\"PRICE\"]\n",
    "\n",
    "bos.head()"
   ]
  },
  {
   "cell_type": "markdown",
   "metadata": {},
   "source": [
    "1. Correlation Intro. (Pearson, Spearman, Kendall's tau) Correlation is one if the most common and useful statistical processes for establishing the relationship between two or more variables. Correlation analysis needs to rely on regression analysis to show the specific form of quantitative correlation between variables, while regression analysis needs to rely on correlation analysis to show the degree of correlation of quantitative changes between variables. Only when there is a high correlation between variables, it is meaningful to conduct regression analysis to seek the specific form of correlation. If the regression analysis is conducted before making a correct judgment on whether variables are correlated and the direction and degree of correlation, it is easy to cause \"false regression\". At the same time, the correlation analysis studies the direction and degree of correlation between variables, only can't deduce concrete form of the relationship between variables, nor from the change of one variable to predict the change of another variable, therefore, in the process of practical application, only combine correlation analysis and regression analysis, to achieve the purpose of the research and analysis. So, we will use linear regression to model the relationship between different features.\n",
    "\n",
    "2. The reason high correlation is not welcomed in modeling: When some machine learning models are used for classification, the feature selection process is generally carried out to eliminate redundant features and highly correlated features, such as naive Bayes and Logistic. Why do you do that? There are two main reasons. 1) One obvious reason is that if there are too many redundant features, the number of features will be too large, so it will take longer to analyze the features and train the model; 2) The redundancy feature will increase the confidence of model discrimination without increasing input information, which is obviously unreasonable\n",
    "\n",
    "3. For the feature independent model, when there are highly correlated features, the redundancy features do not increase the data information, but it has an impact on the confidence of the model classification. The effect of redundancy features will also be superimposed on the model, which makes the model effect worse.\n",
    "4. P-value is Probability, reflecting the probability of an event happening. In Boston Housing Dataset, there are some features that are highly correlated, and we need to remove those features that are highly correlated. The significance of the p value tells us whether the selected feature is meaningful or not. In other words, these measured P values can be used to determine whether a feature is retained or not."
   ]
  },
  {
   "cell_type": "code",
   "execution_count": 3,
   "metadata": {},
   "outputs": [],
   "source": [
    "import seaborn as sns\n",
    "from sklearn.svm import SVR\n",
    "from sklearn.linear_model import LinearRegression\n",
    "from sklearn.metrics import mean_squared_error, r2_score\n",
    "from sklearn.model_selection import train_test_split"
   ]
  },
  {
   "cell_type": "code",
   "execution_count": 4,
   "metadata": {},
   "outputs": [
    {
     "data": {
      "text/plain": [
       "<AxesSubplot:>"
      ]
     },
     "execution_count": 4,
     "metadata": {},
     "output_type": "execute_result"
    },
    {
     "data": {
      "image/png": "[encoded data removed]",
      "text/plain": [
       "<Figure size 432x288 with 2 Axes>"
      ]
     },
     "metadata": {
      "needs_background": "light"
     },
     "output_type": "display_data"
    }
   ],
   "source": [
    "#selecting features based on correlation\n",
    "corr = X.corr()\n",
    "\n",
    "# generating the correlation heat-map\n",
    "sns.heatmap(corr)"
   ]
  },
  {
   "cell_type": "markdown",
   "metadata": {},
   "source": [
    "Based on this heatmap, we can tell the dark color and light color are highly correlated."
   ]
  },
  {
   "cell_type": "code",
   "execution_count": 5,
   "metadata": {},
   "outputs": [
    {
     "name": "stdout",
     "output_type": "stream",
     "text": [
      "['CRIM' 'ZN' 'CHAS' 'RM' 'PTRATIO' 'B']\n"
     ]
    }
   ],
   "source": [
    "# compare the correlation between features and remove one of two features that have a correlation higher than 0.5\n",
    "\n",
    "columns = np.full((corr.shape[0],),True, dtype=bool)\n",
    "\n",
    "for i in range(corr.shape[0]):\n",
    "    for j in range(i+1,corr.shape[0]):\n",
    "        if abs(corr.iloc[i,j])>= 0.5:\n",
    "            if columns[j]:\n",
    "                columns[j] = False\n",
    "                \n",
    "selected_columns = X.columns[columns]\n",
    "\n",
    "data = X\n",
    "data = data[selected_columns]\n",
    "\n",
    "print(selected_columns.values)"
   ]
  },
  {
   "cell_type": "markdown",
   "metadata": {},
   "source": [
    "1. Correlation coefficient can be used to measure the correlation between two variables. According to different conditions satisfied by data, different correlation coefficients are selected for calculation and analysis. For example, in this case, we will use threshold valuse as 0.5\n",
    "\n",
    "2. after dataset has only those columns with correlation less than 0.5, we will be selecting the columns based on how that affect the p-value. We are the removing the column diagnosis because it is the column we are trying to predict"
   ]
  },
  {
   "cell_type": "code",
   "execution_count": 6,
   "metadata": {},
   "outputs": [
    {
     "name": "stdout",
     "output_type": "stream",
     "text": [
      "[[6.3200e-03 0.0000e+00 6.5750e+00 1.5300e+01 3.9690e+02]\n",
      " [2.7310e-02 0.0000e+00 6.4210e+00 1.7800e+01 3.9690e+02]\n",
      " [2.7290e-02 0.0000e+00 7.1850e+00 1.7800e+01 3.9283e+02]\n",
      " ...\n",
      " [6.0760e-02 0.0000e+00 6.9760e+00 2.1000e+01 3.9690e+02]\n",
      " [1.0959e-01 0.0000e+00 6.7940e+00 2.1000e+01 3.9345e+02]\n",
      " [4.7410e-02 0.0000e+00 6.0300e+00 2.1000e+01 3.9690e+02]] ['CRIM' 'CHAS' 'RM' 'PTRATIO' 'B']\n"
     ]
    }
   ],
   "source": [
    "# selecting columns based on p-value\n",
    "selected_columns = selected_columns.values\n",
    "\n",
    "import statsmodels.api as sm\n",
    "\n",
    "def backwardElimination(x, Y, sl, columns):\n",
    "    numVars = len(x[0])\n",
    "    for i in range(0, numVars):\n",
    "        regressor_OLS = sm.OLS(Y, x).fit()\n",
    "        maxVar = max(regressor_OLS.pvalues).astype(float)\n",
    "        if maxVar > sl:\n",
    "            for j in range(0, numVars - i):\n",
    "                if (regressor_OLS.pvalues[j].astype(float) == maxVar):\n",
    "                    x = np.delete(x, j, 1)\n",
    "                    columns = np.delete(columns, j)\n",
    "                    \n",
    "    regressor_OLS.summary()\n",
    "    return x, columns\n",
    "\n",
    "SL = 0.05\n",
    "data_modeled, selected_columns = backwardElimination(data.values, y.values, SL, selected_columns)\n",
    "print(data_modeled, selected_columns)"
   ]
  },
  {
   "cell_type": "markdown",
   "metadata": {},
   "source": [
    "Heatmap Interpretation: after correlation with the heatmap, \"INDUS\", \"NOX\", \"AGE\", \"DIS\", \"RAD\", \"TAX\", \"LSTAT\" have been dropped, and then after P-value selection, \"ZN\" has been dropped."
   ]
  },
  {
   "cell_type": "code",
   "execution_count": 7,
   "metadata": {},
   "outputs": [
    {
     "name": "stdout",
     "output_type": "stream",
     "text": [
      "(506, 13)\n"
     ]
    }
   ],
   "source": [
    "print(bos.iloc[:,:-1].values.shape)\n",
    "result = pd.DataFrame()\n",
    "result['price'] = bos.iloc[:,-1]"
   ]
  },
  {
   "cell_type": "code",
   "execution_count": 8,
   "metadata": {},
   "outputs": [
    {
     "name": "stdout",
     "output_type": "stream",
     "text": [
      "0.6681765220088542 31.50939799448291 34.49263878774662\n"
     ]
    }
   ],
   "source": [
    "data = pd.DataFrame(data = data_modeled, columns = selected_columns)\n",
    "\n",
    "x_train, x_test, y_train, y_test = train_test_split(data.values, result.values, test_size = 0.2)\n",
    "\n",
    "\n",
    "LR = LinearRegression()\n",
    "LR.fit(x_train,y_train)\n",
    "y_pred_insample = LR.predict(x_train)\n",
    "y_pred = LR.predict(x_test)\n",
    "# svr = SVR(kernel=\"linear\")\n",
    "# svr.fit(x_train, y_train)\n",
    "# y_pred = svr.predict(x_test)\n",
    "\n",
    "r2 = r2_score(y_test, y_pred)\n",
    "mse_insample = mean_squared_error(y_train,y_pred_insample)\n",
    "mse_outsample = mean_squared_error(y_test, y_pred)\n",
    "\n",
    "print(r2,mse_insample,mse_outsample)"
   ]
  },
  {
   "cell_type": "markdown",
   "metadata": {},
   "source": [
    "1. $R^2$ achieved 0.54 with 5 vars. \n",
    "\n",
    "2. Insample mse almost equals out-of-sample mse. No overfit, strong prediction ability. So this feature selection works well."
   ]
  },
  {
   "cell_type": "code",
   "execution_count": null,
   "metadata": {},
   "outputs": [],
   "source": []
  }
 ],
 "metadata": {
  "kernelspec": {
   "display_name": "Python 3",
   "language": "python",
   "name": "python3"
  },
  "language_info": {
   "codemirror_mode": {
    "name": "ipython",
    "version": 3
   },
   "file_extension": ".py",
   "mimetype": "text/x-python",
   "name": "python",
   "nbconvert_exporter": "python",
   "pygments_lexer": "ipython3",
   "version": "3.8.5"
  }
 },
 "nbformat": 4,
 "nbformat_minor": 4
}
